{
  "nbformat": 4,
  "nbformat_minor": 0,
  "metadata": {
    "colab": {
      "name": "MNIST_GAN.ipynb",
      "provenance": [],
      "include_colab_link": true
    },
    "kernelspec": {
      "name": "python3",
      "display_name": "Python 3"
    },
    "accelerator": "GPU"
  },
  "cells": [
    {
      "cell_type": "markdown",
      "metadata": {
        "id": "view-in-github",
        "colab_type": "text"
      },
      "source": [
        "<a href=\"https://colab.research.google.com/github/aryamansriram/GANs-Me/blob/master/MNIST_GAN.ipynb\" target=\"_parent\"><img src=\"https://colab.research.google.com/assets/colab-badge.svg\" alt=\"Open In Colab\"/></a>"
      ]
    },
    {
      "cell_type": "code",
      "metadata": {
        "id": "dijyt4B0_9BM",
        "colab_type": "code",
        "colab": {
          "base_uri": "https://localhost:8080/",
          "height": 81
        },
        "outputId": "68efa8ef-d827-4cfa-92c5-16a1e482dd07"
      },
      "source": [
        "import numpy as np\n",
        "from keras.datasets.mnist import load_data\n",
        "from numpy.random import randn\n",
        "from numpy.random import randint\n",
        "from keras.optimizers import Adam\n",
        "from keras.models import Sequential\n",
        "from keras.layers import Dense\n",
        "from keras.layers import Reshape\n",
        "from keras.layers import Flatten\n",
        "from keras.layers import Conv2D,Conv2DTranspose\n",
        "from keras.layers import LeakyReLU,Dropout\n",
        "import matplotlib.pyplot as plt"
      ],
      "execution_count": 1,
      "outputs": [
        {
          "output_type": "stream",
          "text": [
            "Using TensorFlow backend.\n"
          ],
          "name": "stderr"
        },
        {
          "output_type": "display_data",
          "data": {
            "text/html": [
              "<p style=\"color: red;\">\n",
              "The default version of TensorFlow in Colab will soon switch to TensorFlow 2.x.<br>\n",
              "We recommend you <a href=\"https://www.tensorflow.org/guide/migrate\" target=\"_blank\">upgrade</a> now \n",
              "or ensure your notebook will continue to use TensorFlow 1.x via the <code>%tensorflow_version 1.x</code> magic:\n",
              "<a href=\"https://colab.research.google.com/notebooks/tensorflow_version.ipynb\" target=\"_blank\">more info</a>.</p>\n"
            ],
            "text/plain": [
              "<IPython.core.display.HTML object>"
            ]
          },
          "metadata": {
            "tags": []
          }
        }
      ]
    },
    {
      "cell_type": "code",
      "metadata": {
        "id": "DEAsdxfwBCI8",
        "colab_type": "code",
        "colab": {}
      },
      "source": [
        "def define_discriminator():\n",
        "  model = Sequential()\n",
        "  model.add(Conv2D(64,(3,3),strides=(2,2),padding='same',input_shape=(28,28,1)))\n",
        "  model.add(LeakyReLU(alpha=0.2))\n",
        "  model.add(Dropout(0.4))\n",
        "  model.add(Conv2D(64,(3,3),strides=(2,2),padding='same'))\n",
        "  model.add(LeakyReLU(alpha=0.2))\n",
        "  model.add(Dropout(0.4))\n",
        "  model.add(Flatten())\n",
        "  model.add(Dense(1,activation=\"sigmoid\"))\n",
        "  opt = Adam(lr=0.001,beta_1 = 0.005)\n",
        "  model.compile(loss='binary_crossentropy',optimizer=opt,metrics=['accuracy'])\n",
        "  return model"
      ],
      "execution_count": 0,
      "outputs": []
    },
    {
      "cell_type": "code",
      "metadata": {
        "id": "TKQykiskCV8j",
        "colab_type": "code",
        "colab": {}
      },
      "source": [
        "def define_generator(latent_dim):\n",
        "  model = Sequential()\n",
        "  n_nodes = 128*7*7\n",
        "  model.add(Dense(n_nodes,input_dim=latent_dim))\n",
        "  model.add(LeakyReLU(0.2))\n",
        "  model.add(Reshape((7,7,128)))\n",
        "  model.add(Conv2DTranspose(128,(4,4),strides=(2,2),padding='same'))\n",
        "  model.add(LeakyReLU(0.2))\n",
        "  model.add(Conv2DTranspose(128,(4,4),strides=(2,2),padding='same'))\n",
        "  model.add(Conv2D(1,(7,7),activation='sigmoid',padding='same'))\n",
        "  return model\n",
        "  \n",
        "  \n",
        "  "
      ],
      "execution_count": 0,
      "outputs": []
    },
    {
      "cell_type": "code",
      "metadata": {
        "id": "l0IOorTeE7hR",
        "colab_type": "code",
        "colab": {}
      },
      "source": [
        "def define_gan(generator,discriminator):\n",
        "  discriminator.trainable = False\n",
        "  model = Sequential()\n",
        "  model.add(generator)\n",
        "  model.add(discriminator)\n",
        "  opt = Adam(lr=0.002,beta_1=0.05)\n",
        "  model.compile(loss='binary_crossentropy',optimizer=opt)\n",
        "  return model"
      ],
      "execution_count": 0,
      "outputs": []
    },
    {
      "cell_type": "code",
      "metadata": {
        "id": "c0Krg9RtGQYP",
        "colab_type": "code",
        "colab": {}
      },
      "source": [
        "def load_real_samples():\n",
        "  (trainX, _), (_, _) = load_data()\n",
        "  X = np.expand_dims(trainX,axis=1)\n",
        "  X = X.astype('float32')\n",
        "  X = X/255.0\n",
        "  return X"
      ],
      "execution_count": 0,
      "outputs": []
    },
    {
      "cell_type": "code",
      "metadata": {
        "id": "wgbmAIhuGx3n",
        "colab_type": "code",
        "colab": {}
      },
      "source": [
        "def generate_real_samples(dataset,n_samples):\n",
        "  ix = randint(0,dataset.shape[0],n_samples)\n",
        "  X = dataset[ix]\n",
        "  X = X.reshape((128,28,28,1))\n",
        "  y = np.ones((n_samples,1))\n",
        "  return X,y\n"
      ],
      "execution_count": 0,
      "outputs": []
    },
    {
      "cell_type": "code",
      "metadata": {
        "id": "MCqxfnUxHQJe",
        "colab_type": "code",
        "colab": {}
      },
      "source": [
        "def generate_latent_points(latent_dim,n_samples):\n",
        "  x_input = randn(latent_dim*n_samples)\n",
        "  x_input = x_input.reshape(n_samples,latent_dim)\n",
        "  return x_input\n",
        "\n",
        "\n",
        "  "
      ],
      "execution_count": 0,
      "outputs": []
    },
    {
      "cell_type": "code",
      "metadata": {
        "id": "hyUciFgeHwSV",
        "colab_type": "code",
        "colab": {}
      },
      "source": [
        "def generate_fake_samples(generator,latent_dim,n_samples):\n",
        "  x_input = generate_latent_points(latent_dim,n_samples)\n",
        "  x = generator.predict(x_input)\n",
        "  y = np.zeros((n_samples,1))\n",
        "  return x,y"
      ],
      "execution_count": 0,
      "outputs": []
    },
    {
      "cell_type": "code",
      "metadata": {
        "id": "UDx-iy9NI_Ti",
        "colab_type": "code",
        "colab": {}
      },
      "source": [
        "def train(generator,discriminator,gan,dataset,latent_dim,n_epochs=10,n_batch=256):\n",
        "  batch_per_epoch = int(dataset.shape[0]/n_batch)\n",
        "  half_batch = int(n_batch/2)\n",
        "  for i in range(n_epochs):\n",
        "    for j in range(batch_per_epoch):\n",
        "      X_real,y_real = generate_real_samples(dataset,half_batch)\n",
        "      X_fake,y_fake = generate_fake_samples(generator,latent_dim,half_batch)\n",
        "      \n",
        "      X,y = np.vstack((X_real,X_fake)),np.vstack((y_real,y_fake))\n",
        "      d_loss,_ = discriminator.train_on_batch(X,y)\n",
        "      for k in range(2):\n",
        "        X_gan = generate_latent_points(latent_dim,n_batch)\n",
        "        y_gan = np.ones((n_batch,1))\n",
        "        g_loss = gan.train_on_batch(X_gan,y_gan)\n",
        "        \n",
        "      \n",
        "    print(\"Epoch: \",i,\" generator_loss: \",g_loss,\" discriminator_loss: \",d_loss)\n",
        "      "
      ],
      "execution_count": 0,
      "outputs": []
    },
    {
      "cell_type": "code",
      "metadata": {
        "id": "NtjIsRmTOrw5",
        "colab_type": "code",
        "outputId": "58f4d552-2ec9-40bb-a719-4e3b83af084d",
        "colab": {
          "base_uri": "https://localhost:8080/",
          "height": 280
        }
      },
      "source": [
        "latent_dim = 100\n",
        "discriminator = define_discriminator()\n",
        "generator = define_generator(latent_dim)\n",
        "gan = define_gan(generator,discriminator)\n",
        "dataset = load_real_samples()\n",
        "train(generator,discriminator,gan,dataset,latent_dim)\n"
      ],
      "execution_count": 26,
      "outputs": [
        {
          "output_type": "stream",
          "text": [
            "/usr/local/lib/python3.6/dist-packages/keras/engine/training.py:493: UserWarning: Discrepancy between trainable weights and collected trainable weights, did you set `model.trainable` without calling `model.compile` after ?\n",
            "  'Discrepancy between trainable weights and collected trainable'\n",
            "/usr/local/lib/python3.6/dist-packages/keras/engine/training.py:493: UserWarning: Discrepancy between trainable weights and collected trainable weights, did you set `model.trainable` without calling `model.compile` after ?\n",
            "  'Discrepancy between trainable weights and collected trainable'\n"
          ],
          "name": "stderr"
        },
        {
          "output_type": "stream",
          "text": [
            "Epoch:  0  generator_loss:  0.69745106  discriminator_loss:  0.6918689\n",
            "Epoch:  1  generator_loss:  0.6882228  discriminator_loss:  0.6932451\n",
            "Epoch:  2  generator_loss:  0.6931536  discriminator_loss:  0.69250274\n",
            "Epoch:  3  generator_loss:  0.68907475  discriminator_loss:  0.6920683\n",
            "Epoch:  4  generator_loss:  1.7351565  discriminator_loss:  0.3700953\n",
            "Epoch:  5  generator_loss:  3.1120632  discriminator_loss:  0.24210732\n",
            "Epoch:  6  generator_loss:  3.9777303  discriminator_loss:  0.08115874\n",
            "Epoch:  7  generator_loss:  5.4915276  discriminator_loss:  0.02439742\n",
            "Epoch:  8  generator_loss:  7.304018  discriminator_loss:  0.019545503\n",
            "Epoch:  9  generator_loss:  8.849961  discriminator_loss:  0.0041811443\n"
          ],
          "name": "stdout"
        }
      ]
    },
    {
      "cell_type": "code",
      "metadata": {
        "id": "wqi682B8PloA",
        "colab_type": "code",
        "colab": {}
      },
      "source": [
        "latent_points = generate_latent_points(100, 25)"
      ],
      "execution_count": 0,
      "outputs": []
    },
    {
      "cell_type": "code",
      "metadata": {
        "id": "BLKHLdP0WZIj",
        "colab_type": "code",
        "colab": {}
      },
      "source": [
        "X = generator.predict(latent_points)"
      ],
      "execution_count": 0,
      "outputs": []
    },
    {
      "cell_type": "code",
      "metadata": {
        "id": "S8HCYAkLWbmm",
        "colab_type": "code",
        "outputId": "f09786cd-ca41-451b-f9c1-deb0fa025397",
        "colab": {
          "base_uri": "https://localhost:8080/",
          "height": 265
        }
      },
      "source": [
        "plt.imshow(X[0, :, :, 0], cmap='gray_r')\n",
        "plt.show()"
      ],
      "execution_count": 29,
      "outputs": [
        {
          "output_type": "display_data",
          "data": {
            "image/png": "[encoded data removed]",
            "text/plain": [
              "<Figure size 432x288 with 1 Axes>"
            ]
          },
          "metadata": {
            "tags": []
          }
        }
      ]
    },
    {
      "cell_type": "code",
      "metadata": {
        "id": "0neHDDUuWpCP",
        "colab_type": "code",
        "colab": {}
      },
      "source": [
        ""
      ],
      "execution_count": 0,
      "outputs": []
    }
  ]
}